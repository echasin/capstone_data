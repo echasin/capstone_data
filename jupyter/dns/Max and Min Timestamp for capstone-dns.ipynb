{
 "cells": [
  {
   "cell_type": "markdown",
   "metadata": {},
   "source": [
    "# DNS Sample Elastic Queries\n"
   ]
  },
  {
   "cell_type": "markdown",
   "metadata": {},
   "source": [
    "##  Max and Min Timestamp for capstone/dns"
   ]
  },
  {
   "cell_type": "code",
   "execution_count": 14,
   "metadata": {
    "collapsed": false
   },
   "outputs": [
    {
     "name": "stdout",
     "output_type": "stream",
     "text": [
      "Analyzed 40821591 Records:\n",
      "{\n",
      "    '_shards': {'failed': 0, 'successful': 5, 'total': 5},\n",
      "    'aggregations': {\n",
      "        'max_time': {\n",
      "            'value': 1445299199000.0,\n",
      "            'value_as_string': '2015-10-19T23:59:59.000Z',\n",
      "        },\n",
      "        'min_time': {\n",
      "            'value': 1440288002000.0,\n",
      "            'value_as_string': '2015-08-23T00:00:02.000Z',\n",
      "        },\n",
      "    },\n",
      "    'hits': {'hits': [], 'max_score': 0.0, 'total': 40821591},\n",
      "    'timed_out': False,\n",
      "    'took': 1075,\n",
      "}\n"
     ]
    }
   ],
   "source": [
    "# Requires that Elastic Python Libary be install\n",
    "# pip install elasticsearch\n",
    "# pip install pprintpp\n",
    "\n",
    "from pprintpp import pprint as pp\n",
    "from datetime import datetime\n",
    "from elasticsearch import Elasticsearch\n",
    "es = Elasticsearch(['http://ec2-52-54-140-219.compute-1.amazonaws.com:9200'])\n",
    "\n",
    "# Execuute Query\n",
    "res = es.search(index=\"capstone\", doc_type='dns', \n",
    "body={\n",
    "  \"aggs\": {\n",
    "    \"min_time\": {\n",
    "      \"min\": {\n",
    "        \"field\": \"@timestamp\"\n",
    "      }\n",
    "    },\n",
    "    \"max_time\": {\n",
    "      \"max\": {\n",
    "        \"field\": \"@timestamp\"\n",
    "      }\n",
    "    }\n",
    "  },\"size\":0\n",
    "})\n",
    "\n",
    "\n",
    "# Prints the number of records analyzed\n",
    "print(\"Analyzed %d Records:\" % res['hits']['total'])\n",
    "\n",
    "# Prints JSON output using pretty-print\n",
    "pp (res)\n"
   ]
  }
 ],
 "metadata": {
  "anaconda-cloud": {},
  "kernelspec": {
   "display_name": "Python [conda root]",
   "language": "python",
   "name": "conda-root-py"
  },
  "language_info": {
   "codemirror_mode": {
    "name": "ipython",
    "version": 3
   },
   "file_extension": ".py",
   "mimetype": "text/x-python",
   "name": "python",
   "nbconvert_exporter": "python",
   "pygments_lexer": "ipython3",
   "version": "3.5.2"
  }
 },
 "nbformat": 4,
 "nbformat_minor": 1
}
